{
 "cells": [
  {
   "cell_type": "code",
   "execution_count": 1,
   "id": "3e2b6ec1",
   "metadata": {},
   "outputs": [],
   "source": [
    "import pandas as pd\n",
    "import numpy as np\n",
    "import csv"
   ]
  },
  {
   "cell_type": "code",
   "execution_count": 2,
   "id": "7e773261",
   "metadata": {},
   "outputs": [
    {
     "data": {
      "text/html": [
       "<div>\n",
       "<style scoped>\n",
       "    .dataframe tbody tr th:only-of-type {\n",
       "        vertical-align: middle;\n",
       "    }\n",
       "\n",
       "    .dataframe tbody tr th {\n",
       "        vertical-align: top;\n",
       "    }\n",
       "\n",
       "    .dataframe thead th {\n",
       "        text-align: right;\n",
       "    }\n",
       "</style>\n",
       "<table border=\"1\" class=\"dataframe\">\n",
       "  <thead>\n",
       "    <tr style=\"text-align: right;\">\n",
       "      <th></th>\n",
       "      <th>Year</th>\n",
       "      <th>Province</th>\n",
       "      <th>CancerType</th>\n",
       "      <th>UOM</th>\n",
       "      <th>VALUE</th>\n",
       "    </tr>\n",
       "  </thead>\n",
       "  <tbody>\n",
       "    <tr>\n",
       "      <th>0</th>\n",
       "      <td>1992</td>\n",
       "      <td>Newfoundland and Labrador</td>\n",
       "      <td>Lip</td>\n",
       "      <td>Rate per 100,000 population</td>\n",
       "      <td>6.9</td>\n",
       "    </tr>\n",
       "    <tr>\n",
       "      <th>1</th>\n",
       "      <td>1993</td>\n",
       "      <td>Newfoundland and Labrador</td>\n",
       "      <td>Lip</td>\n",
       "      <td>Rate per 100,000 population</td>\n",
       "      <td>9.5</td>\n",
       "    </tr>\n",
       "    <tr>\n",
       "      <th>2</th>\n",
       "      <td>1994</td>\n",
       "      <td>Newfoundland and Labrador</td>\n",
       "      <td>Lip</td>\n",
       "      <td>Rate per 100,000 population</td>\n",
       "      <td>6.1</td>\n",
       "    </tr>\n",
       "    <tr>\n",
       "      <th>3</th>\n",
       "      <td>1995</td>\n",
       "      <td>Newfoundland and Labrador</td>\n",
       "      <td>Lip</td>\n",
       "      <td>Rate per 100,000 population</td>\n",
       "      <td>7.0</td>\n",
       "    </tr>\n",
       "    <tr>\n",
       "      <th>4</th>\n",
       "      <td>1996</td>\n",
       "      <td>Newfoundland and Labrador</td>\n",
       "      <td>Lip</td>\n",
       "      <td>Rate per 100,000 population</td>\n",
       "      <td>5.4</td>\n",
       "    </tr>\n",
       "  </tbody>\n",
       "</table>\n",
       "</div>"
      ],
      "text/plain": [
       "   Year                   Province CancerType                          UOM  \\\n",
       "0  1992  Newfoundland and Labrador        Lip  Rate per 100,000 population   \n",
       "1  1993  Newfoundland and Labrador        Lip  Rate per 100,000 population   \n",
       "2  1994  Newfoundland and Labrador        Lip  Rate per 100,000 population   \n",
       "3  1995  Newfoundland and Labrador        Lip  Rate per 100,000 population   \n",
       "4  1996  Newfoundland and Labrador        Lip  Rate per 100,000 population   \n",
       "\n",
       "   VALUE  \n",
       "0    6.9  \n",
       "1    9.5  \n",
       "2    6.1  \n",
       "3    7.0  \n",
       "4    5.4  "
      ]
     },
     "execution_count": 2,
     "metadata": {},
     "output_type": "execute_result"
    }
   ],
   "source": [
    "df = pd.read_csv('../cleanratesrz.csv')\n",
    "df.head()"
   ]
  },
  {
   "cell_type": "code",
   "execution_count": 13,
   "id": "f25dd19a",
   "metadata": {},
   "outputs": [
    {
     "name": "stdout",
     "output_type": "stream",
     "text": [
      "Year          9.821065\n",
      "Province      9.821065\n",
      "CancerType    9.821065\n",
      "UOM           9.821065\n",
      "VALUE         9.821065\n",
      "dtype: float64\n"
     ]
    }
   ],
   "source": [
    "newfoundland_df = df[df['Province'] == 'Newfoundland and Labrador']\n",
    "newfoundland_df.count()\n",
    "nfl_value = (newfoundland_df['VALUE'].sum())/(newfoundland_df.count())\n",
    "print(nfl_value)"
   ]
  },
  {
   "cell_type": "code",
   "execution_count": 14,
   "id": "55b9a1eb",
   "metadata": {},
   "outputs": [
    {
     "name": "stdout",
     "output_type": "stream",
     "text": [
      "Year          10.721861\n",
      "Province      10.721861\n",
      "CancerType    10.721861\n",
      "UOM           10.721861\n",
      "VALUE         10.721861\n",
      "dtype: float64\n"
     ]
    }
   ],
   "source": [
    "pei_df = df[df['Province'] == 'Prince Edward Island']\n",
    "pei_df.count()\n",
    "pei_value = (pei_df['VALUE'].sum())/(pei_df.count())\n",
    "print(pei_value)"
   ]
  },
  {
   "cell_type": "code",
   "execution_count": 15,
   "id": "99d326a8",
   "metadata": {},
   "outputs": [
    {
     "name": "stdout",
     "output_type": "stream",
     "text": [
      "Year          10.258179\n",
      "Province      10.258179\n",
      "CancerType    10.258179\n",
      "UOM           10.258179\n",
      "VALUE         11.018044\n",
      "dtype: float64\n"
     ]
    }
   ],
   "source": [
    "ns_df = df[df['Province'] == 'Nova Scotia']\n",
    "ns_df.count()\n",
    "ns_value = (ns_df['VALUE'].sum())/(ns_df.count())\n",
    "print(ns_value)"
   ]
  },
  {
   "cell_type": "code",
   "execution_count": 16,
   "id": "d670e133",
   "metadata": {},
   "outputs": [
    {
     "name": "stdout",
     "output_type": "stream",
     "text": [
      "Year          10.617772\n",
      "Province      10.617772\n",
      "CancerType    10.617772\n",
      "UOM           10.617772\n",
      "VALUE         10.617772\n",
      "dtype: float64\n"
     ]
    }
   ],
   "source": [
    "nb_df = df[df['Province'] == 'New Brunswick']\n",
    "nb_df.count()\n",
    "nb_value = (nb_df['VALUE'].sum())/(nb_df.count())\n",
    "print(nb_value)"
   ]
  },
  {
   "cell_type": "code",
   "execution_count": 17,
   "id": "093ab3d6",
   "metadata": {},
   "outputs": [
    {
     "name": "stdout",
     "output_type": "stream",
     "text": [
      "Year          9.30924\n",
      "Province      9.30924\n",
      "CancerType    9.30924\n",
      "UOM           9.30924\n",
      "VALUE         9.30924\n",
      "dtype: float64\n"
     ]
    }
   ],
   "source": [
    "on_df = df[df['Province'] == 'Ontario']\n",
    "on_df.count()\n",
    "on_value = (on_df['VALUE'].sum())/(on_df.count())\n",
    "print(on_value)"
   ]
  },
  {
   "cell_type": "code",
   "execution_count": 19,
   "id": "36c62e7b",
   "metadata": {},
   "outputs": [
    {
     "name": "stdout",
     "output_type": "stream",
     "text": [
      "Year           9.563793\n",
      "Province       9.563793\n",
      "CancerType     9.563793\n",
      "UOM            9.563793\n",
      "VALUE         10.667308\n",
      "dtype: float64\n"
     ]
    }
   ],
   "source": [
    "qb_df = df[df['Province'] == 'Quebec']\n",
    "qb_df.count()\n",
    "qb_value = (qb_df['VALUE'].sum())/(qb_df.count())\n",
    "print(qb_value)"
   ]
  },
  {
   "cell_type": "code",
   "execution_count": 20,
   "id": "d0008571",
   "metadata": {},
   "outputs": [
    {
     "name": "stdout",
     "output_type": "stream",
     "text": [
      "Year          9.45756\n",
      "Province      9.45756\n",
      "CancerType    9.45756\n",
      "UOM           9.45756\n",
      "VALUE         9.45756\n",
      "dtype: float64\n"
     ]
    }
   ],
   "source": [
    "man_df = df[df['Province'] == 'Manitoba']\n",
    "man_df.count()\n",
    "man_value = (man_df['VALUE'].sum())/(man_df.count())\n",
    "print(man_value)"
   ]
  },
  {
   "cell_type": "code",
   "execution_count": 21,
   "id": "1e94a261",
   "metadata": {},
   "outputs": [
    {
     "name": "stdout",
     "output_type": "stream",
     "text": [
      "Year          9.278316\n",
      "Province      9.278316\n",
      "CancerType    9.278316\n",
      "UOM           9.278316\n",
      "VALUE         9.278316\n",
      "dtype: float64\n"
     ]
    }
   ],
   "source": [
    "sas_df = df[df['Province'] == 'Saskatchewan']\n",
    "sas_df.count()\n",
    "sas_value = (sas_df['VALUE'].sum())/(sas_df.count())\n",
    "print(sas_value)"
   ]
  },
  {
   "cell_type": "code",
   "execution_count": 22,
   "id": "58b25804",
   "metadata": {},
   "outputs": [
    {
     "name": "stdout",
     "output_type": "stream",
     "text": [
      "Year          7.711804\n",
      "Province      7.711804\n",
      "CancerType    7.711804\n",
      "UOM           7.711804\n",
      "VALUE         7.711804\n",
      "dtype: float64\n"
     ]
    }
   ],
   "source": [
    "alb_df = df[df['Province'] == 'Alberta']\n",
    "alb_df.count()\n",
    "alb_value = (alb_df['VALUE'].sum())/(alb_df.count())\n",
    "print(alb_value)"
   ]
  },
  {
   "cell_type": "code",
   "execution_count": 23,
   "id": "358c8a64",
   "metadata": {},
   "outputs": [
    {
     "name": "stdout",
     "output_type": "stream",
     "text": [
      "Year          9.239478\n",
      "Province      9.239478\n",
      "CancerType    9.239478\n",
      "UOM           9.239478\n",
      "VALUE         9.239478\n",
      "dtype: float64\n"
     ]
    }
   ],
   "source": [
    "bc_df = df[df['Province'] == 'British Columbia']\n",
    "bc_df.count()\n",
    "bc_value = (bc_df['VALUE'].sum())/(bc_df.count())\n",
    "print(bc_value)"
   ]
  },
  {
   "cell_type": "code",
   "execution_count": 24,
   "id": "41572140",
   "metadata": {},
   "outputs": [
    {
     "name": "stdout",
     "output_type": "stream",
     "text": [
      "Year          6.445911\n",
      "Province      6.445911\n",
      "CancerType    6.445911\n",
      "UOM           6.445911\n",
      "VALUE         6.445911\n",
      "dtype: float64\n"
     ]
    }
   ],
   "source": [
    "yk_df = df[df['Province'] == 'Yukon']\n",
    "yk_df.count()\n",
    "yk_value = (yk_df['VALUE'].sum())/(yk_df.count())\n",
    "print(yk_value)"
   ]
  },
  {
   "cell_type": "code",
   "execution_count": 25,
   "id": "6caecb4d",
   "metadata": {},
   "outputs": [
    {
     "name": "stdout",
     "output_type": "stream",
     "text": [
      "Year          5.392772\n",
      "Province      5.392772\n",
      "CancerType    5.392772\n",
      "UOM           5.392772\n",
      "VALUE         5.392772\n",
      "dtype: float64\n"
     ]
    }
   ],
   "source": [
    "nwt_df = df[df['Province'] == 'Northwest Territories']\n",
    "nwt_df.count()\n",
    "nwt_value = (nwt_df['VALUE'].sum())/(nwt_df.count())\n",
    "print(nwt_value)"
   ]
  },
  {
   "cell_type": "code",
   "execution_count": 26,
   "id": "0d54719b",
   "metadata": {},
   "outputs": [
    {
     "name": "stdout",
     "output_type": "stream",
     "text": [
      "Year          3.414302\n",
      "Province      3.414302\n",
      "CancerType    3.414302\n",
      "UOM           3.414302\n",
      "VALUE         3.414302\n",
      "dtype: float64\n"
     ]
    }
   ],
   "source": [
    "nnv_df = df[df['Province'] == 'Nunavut']\n",
    "nnv_df.count()\n",
    "nnv_value = (nnv_df['VALUE'].sum())/(nnv_df.count())\n",
    "print(nnv_value)"
   ]
  },
  {
   "cell_type": "code",
   "execution_count": null,
   "id": "69904509",
   "metadata": {},
   "outputs": [],
   "source": []
  }
 ],
 "metadata": {
  "kernelspec": {
   "display_name": "Python 3 (ipykernel)",
   "language": "python",
   "name": "python3"
  },
  "language_info": {
   "codemirror_mode": {
    "name": "ipython",
    "version": 3
   },
   "file_extension": ".py",
   "mimetype": "text/x-python",
   "name": "python",
   "nbconvert_exporter": "python",
   "pygments_lexer": "ipython3",
   "version": "3.9.13"
  }
 },
 "nbformat": 4,
 "nbformat_minor": 5
}
