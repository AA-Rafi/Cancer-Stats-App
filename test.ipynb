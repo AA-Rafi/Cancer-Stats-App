{
 "cells": [
  {
   "cell_type": "code",
   "execution_count": null,
   "id": "060d7565",
   "metadata": {},
   "outputs": [],
   "source": [
    "#test test 1\n",
    "#test test 2\n",
    "#test test 3"
   ]
  },
  {
   "cell_type": "code",
   "execution_count": null,
   "id": "f99da2f5",
   "metadata": {},
   "outputs": [],
   "source": [
    "#this is eleshia's line of code"
   ]
  },
  {
   "cell_type": "code",
   "execution_count": null,
   "id": "48fd571d",
   "metadata": {},
   "outputs": [],
   "source": []
  }
 ],
 "metadata": {
  "kernelspec": {
   "display_name": "Python 3 (ipykernel)",
   "language": "python",
   "name": "python3"
  },
  "language_info": {
   "codemirror_mode": {
    "name": "ipython",
    "version": 3
   },
   "file_extension": ".py",
   "mimetype": "text/x-python",
   "name": "python",
   "nbconvert_exporter": "python",
   "pygments_lexer": "ipython3",
   "version": "3.9.13"
  }
 },
 "nbformat": 4,
 "nbformat_minor": 5
}
